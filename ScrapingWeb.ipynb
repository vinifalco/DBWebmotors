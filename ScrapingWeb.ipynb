{
 "cells": [
  {
   "cell_type": "code",
   "execution_count": 59,
   "metadata": {},
   "outputs": [],
   "source": [
    "import selenium\n",
    "import time\n",
    "from selenium import webdriver as wb\n",
    "webD=wb.Chrome('chromedriver.exe')\n",
    "webD.get('https://www.webmotors.com.br/carros/estoque/audi/a3?tipoveiculo=carros&marca1=AUDI&modelo1=A3')"
   ]
  },
  {
   "cell_type": "code",
   "execution_count": 60,
   "metadata": {},
   "outputs": [],
   "source": [
    "def scroll_to_bottom(driver):\n",
    "\n",
    "    old_position = 0\n",
    "    new_position = None\n",
    "\n",
    "    while new_position != old_position:\n",
    "        # Get old scroll position\n",
    "        old_position = driver.execute_script(\n",
    "                (\"return (window.pageYOffset !== undefined) ?\"\n",
    "                 \" window.pageYOffset : (document.documentElement ||\"\n",
    "                 \" document.body.parentNode || document.body);\"))\n",
    "        # Sleep and Scroll\n",
    "        time.sleep(1)\n",
    "        driver.execute_script((\n",
    "                \"var scrollingElement = (document.scrollingElement ||\"\n",
    "                \" document.body);scrollingElement.scrollTop =\"\n",
    "                \" scrollingElement.scrollHeight;\"))\n",
    "        # Get new position\n",
    "        new_position = driver.execute_script(\n",
    "                (\"return (window.pageYOffset !== undefined) ?\"\n",
    "                 \" window.pageYOffset : (document.documentElement ||\"\n",
    "                 \" document.body.parentNode || document.body);\"))\n",
    "    \n",
    "    try:\n",
    "        load_more = webD.find_element_by_id('ButtonCarriesMoreCars')\n",
    "        load_more.click()\n",
    "        return False\n",
    "    except:\n",
    "        return True"
   ]
  },
  {
   "cell_type": "code",
   "execution_count": 61,
   "metadata": {},
   "outputs": [],
   "source": [
    "#page_end = False\n",
    "#while page_end == False:\n",
    "#    page_end = scroll_to_bottom(webD)"
   ]
  },
  {
   "cell_type": "code",
   "execution_count": 62,
   "metadata": {},
   "outputs": [],
   "source": [
    "carsList = webD.find_elements_by_class_name('sc-dNLxif.dcKUo')"
   ]
  },
  {
   "cell_type": "code",
   "execution_count": 63,
   "metadata": {},
   "outputs": [
    {
     "data": {
      "text/plain": [
       "'https://www.webmotors.com.br/comprar/audi/a3/2-0-tfsi-sportback-16v-gasolina-4p-s-tronic/4-portas/2007-2008/28030416?pos=a28030416c:&np=1'"
      ]
     },
     "execution_count": 63,
     "metadata": {},
     "output_type": "execute_result"
    }
   ],
   "source": [
    "carsList[0].find_element_by_tag_name('a').get_property('href')"
   ]
  },
  {
   "cell_type": "code",
   "execution_count": null,
   "metadata": {},
   "outputs": [],
   "source": []
  }
 ],
 "metadata": {
  "kernelspec": {
   "display_name": "Python 3",
   "language": "python",
   "name": "python3"
  },
  "language_info": {
   "codemirror_mode": {
    "name": "ipython",
    "version": 3
   },
   "file_extension": ".py",
   "mimetype": "text/x-python",
   "name": "python",
   "nbconvert_exporter": "python",
   "pygments_lexer": "ipython3",
   "version": "3.8.3"
  }
 },
 "nbformat": 4,
 "nbformat_minor": 4
}
